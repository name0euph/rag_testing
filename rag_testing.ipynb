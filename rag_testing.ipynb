{
 "cells": [
  {
   "cell_type": "markdown",
   "metadata": {},
   "source": [
    "#### データソースを準備"
   ]
  },
  {
   "cell_type": "code",
   "execution_count": 8,
   "metadata": {},
   "outputs": [],
   "source": [
    "from trafilatura import fetch_url, extract\n",
    "\n",
    "url = 'https://yugioh-wiki.net/index.php?%A1%DA%A5%A2%A5%EB%A5%D0%A5%B9%A4%CE%CD%EE%B0%FD%A1%DB'\n",
    "filename = 'deck_albaz.txt'\n",
    "\n",
    "document = fetch_url(url)\n",
    "text = extract(document)\n",
    "\n",
    "if text is not None:\n",
    "    with open(filename, 'w', encoding='utf-8') as f:\n",
    "        f.write(text)\n",
    "else:\n",
    "    print(\"No text could be extracted from the document.\")\n"
   ]
  },
  {
   "cell_type": "markdown",
   "metadata": {},
   "source": [
    "#### チャンク分割"
   ]
  },
  {
   "cell_type": "code",
   "execution_count": 9,
   "metadata": {},
   "outputs": [
    {
     "name": "stderr",
     "output_type": "stream",
     "text": [
      "Created a chunk of size 111, which is longer than the specified 100\n",
      "Created a chunk of size 102, which is longer than the specified 100\n",
      "Created a chunk of size 110, which is longer than the specified 100\n",
      "Created a chunk of size 143, which is longer than the specified 100\n",
      "Created a chunk of size 125, which is longer than the specified 100\n",
      "Created a chunk of size 117, which is longer than the specified 100\n",
      "Created a chunk of size 120, which is longer than the specified 100\n",
      "Created a chunk of size 105, which is longer than the specified 100\n",
      "Created a chunk of size 112, which is longer than the specified 100\n",
      "Created a chunk of size 102, which is longer than the specified 100\n",
      "Created a chunk of size 114, which is longer than the specified 100\n",
      "Created a chunk of size 161, which is longer than the specified 100\n",
      "Created a chunk of size 139, which is longer than the specified 100\n"
     ]
    },
    {
     "name": "stdout",
     "output_type": "stream",
     "text": [
      "97\n",
      "page_content='【アルバスの落胤】 †\\nデッキの概要 †\\n自身と相手モンスターを素材にフィールド融合を行う《アルバスの落胤》を中心とした【正規融合】デッキ。' metadata={'source': 'deck_albaz.txt'}\n"
     ]
    }
   ],
   "source": [
    "from langchain.document_loaders import TextLoader\n",
    "\n",
    "loader = TextLoader(filename, encoding='utf-8')\n",
    "raw_docs = loader.load()\n",
    "\n",
    "from langchain.text_splitter import CharacterTextSplitter\n",
    "\n",
    "text_splitter = CharacterTextSplitter.from_tiktoken_encoder(\n",
    "    separator=\"\\n\",\n",
    "    chunk_size=100,\n",
    "    chunk_overlap=0,\n",
    ")\n",
    "\n",
    "docs = text_splitter.split_documents(raw_docs)\n",
    "\n",
    "print(len(docs))\n",
    "print(docs[0])\n"
   ]
  },
  {
   "cell_type": "markdown",
   "metadata": {},
   "source": [
    "#### embedding"
   ]
  },
  {
   "cell_type": "code",
   "execution_count": 10,
   "metadata": {},
   "outputs": [],
   "source": [
    "import os\n",
    "from dotenv import load_dotenv\n",
    "from langchain.embeddings.openai import OpenAIEmbeddings\n",
    "\n",
    "load_dotenv()\n",
    "\n",
    "# OpenAIのEmbeddingモデルを読み込む\n",
    "embeddings = OpenAIEmbeddings(deployment=os.environ[\"DEPLOYMENT_NAME_EMBEDDINGS\"])\n",
    "\n",
    "from langchain.vectorstores import Chroma\n",
    "\n",
    "db = Chroma.from_documents(docs, embeddings)"
   ]
  },
  {
   "cell_type": "markdown",
   "metadata": {},
   "source": [
    "#### 回答"
   ]
  },
  {
   "cell_type": "code",
   "execution_count": 22,
   "metadata": {},
   "outputs": [
    {
     "name": "stdout",
     "output_type": "stream",
     "text": [
      "チャンクを表示\n",
      "[Document(page_content='《アルバスの落胤》とのシナジーを最優先とし、他カテゴリ間のコンボに関係なく汎用的なカードを採用したデッキ。', metadata={'source': 'deck_albaz.txt'}), Document(page_content='【アルバスの落胤】 †\\nデッキの概要 †\\n自身と相手モンスターを素材にフィールド融合を行う《アルバスの落胤》を中心とした【正規融合】デッキ。', metadata={'source': 'deck_albaz.txt'}), Document(page_content='―《アルバスの落胤》のサポートカード\\n―融合召喚を行うカード\\n―相性の良いカード\\n戦術 †', metadata={'source': 'deck_albaz.txt'}), Document(page_content='特に何も考えず《アルバスの落胤》に纏わるストーリー場面カードを投入していくだけで自然とこのタイプになる。\\nこのデッキの弱点 †', metadata={'source': 'deck_albaz.txt'})]\n",
      "[Document(page_content='共通効果の内、《アルバスの落胤》のリクルートが可能なものは後続の《アルバスの落胤》を展開して戦線維持を狙える。', metadata={'source': 'deck_albaz.txt'}), Document(page_content='《アルバスの落胤》とのシナジーを最優先とし、他カテゴリ間のコンボに関係なく汎用的なカードを採用したデッキ。', metadata={'source': 'deck_albaz.txt'}), Document(page_content='《アルバスの落胤》には、烙印を始めとする専用サポートや自身を名指し指定する融合モンスターが多く、それらを軸として構築していく。', metadata={'source': 'deck_albaz.txt'}), Document(page_content='―《アルバスの落胤》のサポートカード\\n―融合召喚を行うカード\\n―相性の良いカード\\n戦術 †', metadata={'source': 'deck_albaz.txt'})]\n",
      "[Document(page_content='固有の弱点で真っ先に懸念すべきは、《アルバスの落胤》の効果を無効化あるいは不発にされた場合のディスアドバンテージだろう。', metadata={'source': 'deck_albaz.txt'}), Document(page_content='特に何も考えず《アルバスの落胤》に纏わるストーリー場面カードを投入していくだけで自然とこのタイプになる。\\nこのデッキの弱点 †', metadata={'source': 'deck_albaz.txt'}), Document(page_content='【アルバスの落胤】 †\\nデッキの概要 †\\n自身と相手モンスターを素材にフィールド融合を行う《アルバスの落胤》を中心とした【正規融合】デッキ。', metadata={'source': 'deck_albaz.txt'}), Document(page_content='《アルバスの落胤》とのシナジーを最優先とし、他カテゴリ間のコンボに関係なく汎用的なカードを採用したデッキ。', metadata={'source': 'deck_albaz.txt'})]\n",
      "[Document(page_content='このデッキとは烙印を始めとする融合召喚サポートを共有できるのが大きな利点。', metadata={'source': 'deck_albaz.txt'}), Document(page_content='《烙印融合/Branded Fusion》\\n通常魔法（制限カード）\\nこのカード名のカードは１ターンに１枚しか発動できず、', metadata={'source': 'deck_albaz.txt'}), Document(page_content='―《アルバスの落胤》を融合素材として指定する融合モンスター', metadata={'source': 'deck_albaz.txt'}), Document(page_content='《赫の烙印》は《アルバスの落胤》とデスピアの両方のサポートカードなので通常の構築以上に扱いやすく、融合素材を除外する点もデスピアならば問題になりにくい。', metadata={'source': 'deck_albaz.txt'})]\n",
      "[Document(page_content='《アルバスの落胤》とのシナジーを最優先とし、他カテゴリ間のコンボに関係なく汎用的なカードを採用したデッキ。', metadata={'source': 'deck_albaz.txt'}), Document(page_content='【アルバスの落胤】 †\\nデッキの概要 †\\n自身と相手モンスターを素材にフィールド融合を行う《アルバスの落胤》を中心とした【正規融合】デッキ。', metadata={'source': 'deck_albaz.txt'}), Document(page_content='特に何も考えず《アルバスの落胤》に纏わるストーリー場面カードを投入していくだけで自然とこのタイプになる。\\nこのデッキの弱点 †', metadata={'source': 'deck_albaz.txt'}), Document(page_content='―《アルバスの落胤》のサポートカード\\n―融合召喚を行うカード\\n―相性の良いカード\\n戦術 †', metadata={'source': 'deck_albaz.txt'})]\n",
      "[Document(page_content='―《アルバスの落胤》を融合素材として指定する融合モンスター', metadata={'source': 'deck_albaz.txt'}), Document(page_content='《アルバスの落胤》には、烙印を始めとする専用サポートや自身を名指し指定する融合モンスターが多く、それらを軸として構築していく。', metadata={'source': 'deck_albaz.txt'}), Document(page_content='「アルバスの落胤」を融合素材とするその融合モンスター１体をＥＸデッキから融合召喚する。\\n―《アルバスの落胤》とそのサポートモンスター', metadata={'source': 'deck_albaz.txt'}), Document(page_content='【アルバスの落胤】 †\\nデッキの概要 †\\n自身と相手モンスターを素材にフィールド融合を行う《アルバスの落胤》を中心とした【正規融合】デッキ。', metadata={'source': 'deck_albaz.txt'})]\n",
      "[Document(page_content='《アルバスの落胤》とのシナジーを最優先とし、他カテゴリ間のコンボに関係なく汎用的なカードを採用したデッキ。', metadata={'source': 'deck_albaz.txt'}), Document(page_content='特に何も考えず《アルバスの落胤》に纏わるストーリー場面カードを投入していくだけで自然とこのタイプになる。\\nこのデッキの弱点 †', metadata={'source': 'deck_albaz.txt'}), Document(page_content='【アルバスの落胤】 †\\nデッキの概要 †\\n自身と相手モンスターを素材にフィールド融合を行う《アルバスの落胤》を中心とした【正規融合】デッキ。', metadata={'source': 'deck_albaz.txt'}), Document(page_content='手札自体を狙われるのもつらく、ハンデスをされると《アルバスの落胤》の為に残した烙印魔法・罠カードが落とされることになりがち。', metadata={'source': 'deck_albaz.txt'})]\n",
      "[Document(page_content='【アルバスの落胤】 †\\nデッキの概要 †\\n自身と相手モンスターを素材にフィールド融合を行う《アルバスの落胤》を中心とした【正規融合】デッキ。', metadata={'source': 'deck_albaz.txt'}), Document(page_content='《アルバスの落胤》とのシナジーを最優先とし、他カテゴリ間のコンボに関係なく汎用的なカードを採用したデッキ。', metadata={'source': 'deck_albaz.txt'}), Document(page_content='―《アルバスの落胤》のサポートカード\\n―融合召喚を行うカード\\n―相性の良いカード\\n戦術 †', metadata={'source': 'deck_albaz.txt'}), Document(page_content='共通効果の内、《アルバスの落胤》のリクルートが可能なものは後続の《アルバスの落胤》を展開して戦線維持を狙える。', metadata={'source': 'deck_albaz.txt'})]\n",
      "[Document(page_content='このデッキとは烙印を始めとする融合召喚サポートを共有できるのが大きな利点。', metadata={'source': 'deck_albaz.txt'}), Document(page_content='《烙印融合/Branded Fusion》\\n通常魔法（制限カード）\\nこのカード名のカードは１ターンに１枚しか発動できず、', metadata={'source': 'deck_albaz.txt'}), Document(page_content='その他、烙印をサーチできる《デスピアの導化アルベル》、継続的に融合召喚可能な《烙印劇城デスピア》も採用しやすいカードであろう。', metadata={'source': 'deck_albaz.txt'}), Document(page_content='- 烙印カードの多くと相性が良い事もあり、その採用枚数も多くなりがちなので、デッキ名は【烙印】と称される事もある。', metadata={'source': 'deck_albaz.txt'})]\n",
      "[Document(page_content='手札・デッキから「相剣」モンスターまたは「アルバスの落胤」１体を特殊召喚する。', metadata={'source': 'deck_albaz.txt'}), Document(page_content='【アルバスの落胤】 †\\nデッキの概要 †\\n自身と相手モンスターを素材にフィールド融合を行う《アルバスの落胤》を中心とした【正規融合】デッキ。', metadata={'source': 'deck_albaz.txt'}), Document(page_content='「アルバスの落胤」を融合素材とするその融合モンスター１体をＥＸデッキから融合召喚する。\\n―《アルバスの落胤》とそのサポートモンスター', metadata={'source': 'deck_albaz.txt'}), Document(page_content='―《アルバスの落胤》を融合素材として指定する融合モンスター', metadata={'source': 'deck_albaz.txt'})]\n",
      "[Document(page_content='《アルバスの落胤》とのシナジーを最優先とし、他カテゴリ間のコンボに関係なく汎用的なカードを採用したデッキ。', metadata={'source': 'deck_albaz.txt'}), Document(page_content='【アルバスの落胤】 †\\nデッキの概要 †\\n自身と相手モンスターを素材にフィールド融合を行う《アルバスの落胤》を中心とした【正規融合】デッキ。', metadata={'source': 'deck_albaz.txt'}), Document(page_content='《アルバスの落胤》は自身を融合素材にしなければならないため、効果にチェーンされて除去されると手札コストも含めて手痛い消費となる。', metadata={'source': 'deck_albaz.txt'}), Document(page_content='《アルバスの落胤》や《超融合》で相手モンスターを融合素材と言う形で除去してボード・アドバンテージを稼いでいく。', metadata={'source': 'deck_albaz.txt'})]\n",
      "*************\n",
      "回答を表示\n",
      "「アルバスの落胤」がこのデッキの中心的なカードであり、キーカードと言えます。\n",
      "申し訳ありませんが、この文脈からは「アルバスの落胤」の攻撃力に関する情報は得られません。\n",
      "「アルバスの落胤」デッキの固有の弱点は、《アルバスの落胤》の効果を無効化あるいは不発にされた場合のディスアドバンテージです。また、このデッキは《アルバスの落胤》とのシナジーを最優先としているため、他カテゴリ間のコンボに関係なく汎用的なカードを採用しているため、相手によっては対策されやすい可能性があります。\n",
      "《烙印融合/Branded Fusion》は通常魔法で、このカード名のカードは１ターンに１枚しか発動できず、《アルバスの落胤》を融合素材として指定する融合モンスターを融合召喚することができます。\n",
      "申し訳ありませんが、この文脈からは「アルバスの落胤」デッキの派生デッキに関する情報は提供されていません。\n",
      "There is no information provided about what Link Monsters are used in an \"Albus no Rakui\" deck.\n",
      "提供された文脈からは、アルバスの落胤デッキでよく使われるカウンター罠についての情報は提供されていません。申し訳ありませんが、回答できません。\n",
      "「アルバスの落胤」デッキの戦術は、自身と相手モンスターを素材にフィールド融合を行うことができる「アルバスの落胤」を中心に展開することです。共通効果の内、《アルバスの落胤》のリクルートが可能なものは後続の《アルバスの落胤》を展開して戦線維持を狙うことができます。また、融合召喚を行うカードや相性の良いカードを採用することで、より強力な展開を目指すことができます。\n",
      "「烙印融合」をサーチする方法として、この文章にある「デスピアの導化アルベル」を使うことができます。このカードは烙印をサーチすることができます。\n",
      "それは文脈からは明確にはわかりませんが、「アルバスの落胤」デッキでは、「相剣」モンスターまたは「アルバスの落胤」を特殊召喚することができます。具体的にどのモンスターに召喚権を使うかは、状況によって異なる可能性があります。\n",
      "Based on the given context, there is no information about the potential benefits of adding \"Tiaramentz\" to an \"Albus' Descendant\" deck. Therefore, I don't know the answer to your question.\n"
     ]
    }
   ],
   "source": [
    "from langchain.chains import  RetrievalQA\n",
    "from langchain.chat_models import AzureChatOpenAI\n",
    "from langchain.schema import HumanMessage\n",
    "\n",
    "retriever = db.as_retriever()\n",
    "\n",
    "# チャットの組み立て\n",
    "chat = AzureChatOpenAI(\n",
    "    deployment_name=os.environ[\"DEPLOYMENT_NAME\"],\n",
    "    temperature=0\n",
    ")\n",
    "\n",
    "# RAGのためのchainを組み立て\n",
    "rag_qa = RetrievalQA.from_chain_type(\n",
    "    llm = chat,\n",
    "    chain_type= \"stuff\",\n",
    "    retriever = retriever,\n",
    "    return_source_documents = True,\n",
    ")\n",
    "\n",
    "# 質問文のリストを作成\n",
    "query_list = [\"「アルバスの落胤」デッキのキーカードは？\",\n",
    "              \"「アルバスの落胤」の攻は？\",\n",
    "              \"「アルバスの落胤」デッキの弱点は？\",\n",
    "              \"烙印融合のテキストを教えて\",\n",
    "              \"「アルバスの落胤」デッキの派生デッキを3つ教えて\",\n",
    "              \"「アルバスの落胤」デッキではリンクモンスターは何が採用される？\",\n",
    "              \"「アルバスの落胤」デッキでよく使われるカウンター罠は？\",\n",
    "              \"「アルバスの落胤」デッキの戦術は？\",\n",
    "              \"「烙印融合」をサーチする方法を教えて\",\n",
    "              \"「アルバスの落胤」デッキでは召喚権をどのモンスターに使う？\",\n",
    "              \"「アルバスの落胤」デッキにティアラメンツを混ぜるメリットは？\",\n",
    "]\n",
    "\n",
    "# LLMに渡すチャンクを格納する空リストを作成\n",
    "context_list = []\n",
    "\n",
    "# LLMからの回答を格納する空リストを作成\n",
    "result_list = []\n",
    "\n",
    "# rag_qaを回して、context_listとresult_listに選ばれたチャンクと回答を格納していく\n",
    "for query in query_list:\n",
    "    rag_result = rag_qa({\"query\": query})\n",
    "    context_list.append(rag_result[\"source_documents\"])\n",
    "    result_list.append(rag_result[\"result\"])\n",
    "\n",
    "\n",
    "print(\"チャンクを表示\")\n",
    "print(*context_list, sep='\\n')\n",
    "print(\"*************\")\n",
    "print(\"回答を表示\")\n",
    "print(*result_list, sep='\\n')\n"
   ]
  },
  {
   "cell_type": "code",
   "execution_count": null,
   "metadata": {},
   "outputs": [],
   "source": []
  }
 ],
 "metadata": {
  "kernelspec": {
   "display_name": "Python 3",
   "language": "python",
   "name": "python3"
  },
  "language_info": {
   "codemirror_mode": {
    "name": "ipython",
    "version": 3
   },
   "file_extension": ".py",
   "mimetype": "text/x-python",
   "name": "python",
   "nbconvert_exporter": "python",
   "pygments_lexer": "ipython3",
   "version": "3.11.4"
  }
 },
 "nbformat": 4,
 "nbformat_minor": 2
}
