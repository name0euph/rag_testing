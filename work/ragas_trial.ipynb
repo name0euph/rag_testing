{
 "cells": [
  {
   "cell_type": "markdown",
   "metadata": {},
   "source": [
    "#### データソースを準備"
   ]
  },
  {
   "cell_type": "code",
   "execution_count": null,
   "metadata": {},
   "outputs": [],
   "source": [
    "from trafilatura import fetch_url, extract\n",
    "\n",
    "# 遊戯王カードwikiのページを取得\n",
    "url = 'https://yugioh-wiki.net/index.php?%A1%DA%A5%A2%A5%EB%A5%D0%A5%B9%A4%CE%CD%EE%B0%FD%A1%DB'\n",
    "filename = 'deck_albaz.txt'\n",
    "document = fetch_url(url)\n",
    "\n",
    "# extract()でテキストを抽出\n",
    "text = extract(document)\n",
    "\n",
    "# テキストをファイルに保存\n",
    "if text is not None:\n",
    "    with open(filename, 'w', encoding='utf-8') as f:\n",
    "        f.write(text)\n",
    "else:\n",
    "    print(\"No text could be extracted from the document.\")"
   ]
  },
  {
   "cell_type": "markdown",
   "metadata": {},
   "source": [
    "#### チャンク分割"
   ]
  },
  {
   "cell_type": "code",
   "execution_count": null,
   "metadata": {},
   "outputs": [],
   "source": [
    "from langchain.document_loaders import TextLoader\n",
    "\n",
    "# テキストファイルを読み込む\n",
    "loader = TextLoader(filename, encoding=\"utf-8\")\n",
    "raw_docs = loader.load()\n",
    "\n",
    "from langchain.text_splitter import CharacterTextSplitter\n",
    "\n",
    "# チャンク分割を定義\n",
    "text_splitter = CharacterTextSplitter.from_tiktoken_encoder(\n",
    "    separator=\"\\n\",\n",
    "    chunk_size=1000,\n",
    "    chunk_overlap=0,\n",
    ")\n",
    "\n",
    "# 読み込んだテキストのチャンク分割を実行\n",
    "docs = text_splitter.split_documents(raw_docs)\n",
    "\n",
    "print(len(docs))"
   ]
  },
  {
   "cell_type": "markdown",
   "metadata": {},
   "source": [
    "#### embedding"
   ]
  },
  {
   "cell_type": "code",
   "execution_count": null,
   "metadata": {},
   "outputs": [],
   "source": [
    "import os\n",
    "from dotenv import load_dotenv\n",
    "from langchain.embeddings.openai import OpenAIEmbeddings\n",
    "\n",
    "load_dotenv()\n",
    "\n",
    "# OpenAIのEmbeddingモデルを定義\n",
    "embeddings = OpenAIEmbeddings(deployment=os.environ[\"DEPLOYMENT_NAME_EMBEDDINGS\"])\n",
    "\n",
    "from langchain.vectorstores import Chroma\n",
    "\n",
    "# Chromaベクトルストアを定義\n",
    "db = Chroma.from_documents(docs, embeddings)"
   ]
  },
  {
   "cell_type": "markdown",
   "metadata": {},
   "source": [
    "#### 回答"
   ]
  },
  {
   "cell_type": "code",
   "execution_count": null,
   "metadata": {},
   "outputs": [],
   "source": [
    "from langchain.chains import  RetrievalQA\n",
    "from langchain.chat_models import AzureChatOpenAI\n",
    "\n",
    "retriever = db.as_retriever()\n",
    "\n",
    "# チャットの組み立て\n",
    "chat = AzureChatOpenAI(\n",
    "    deployment_name=os.environ[\"DEPLOYMENT_NAME\"],\n",
    "    temperature=0\n",
    ")\n",
    "\n",
    "# RAGのためのchainを組み立て\n",
    "rag_qa = RetrievalQA.from_chain_type(\n",
    "    llm = chat,\n",
    "    chain_type= \"stuff\",\n",
    "    retriever = retriever,\n",
    "    return_source_documents = True,\n",
    ")\n",
    "\n",
    "# 質問文のリストを作成\n",
    "query_list = [\"「アルバスの落胤」デッキのキーカードは？\",\n",
    "              \"「アルバスの落胤」の攻は？\",\n",
    "              \"「アルバスの落胤」デッキの弱点は？\",\n",
    "              \"烙印融合のテキストを教えて\",\n",
    "              \"「アルバスの落胤」デッキの派生デッキを3つ教えて\",\n",
    "              \"「アルバスの落胤」デッキではリンクモンスターは何が採用される？\",\n",
    "              \"「アルバスの落胤」デッキでよく使われるカウンター罠は？\",\n",
    "              \"「アルバスの落胤」デッキの戦術は？\",\n",
    "              \"「烙印融合」をサーチする方法を教えて\",\n",
    "              \"「アルバスの落胤」デッキでは召喚権をどのモンスターに使う？\",\n",
    "              \"「アルバスの落胤」デッキにティアラメンツを混ぜるメリットは？\",\n",
    "]\n",
    "\n",
    "# LLMに渡すチャンクを格納する空リストを作成\n",
    "context_list = []\n",
    "\n",
    "# LLMからの回答を格納する空リストを作成\n",
    "result_list = []"
   ]
  },
  {
   "cell_type": "code",
   "execution_count": null,
   "metadata": {},
   "outputs": [],
   "source": [
    "# rag_qaを回して、context_listとresult_listに選ばれたチャンクと回答を格納していく\n",
    "for query in query_list:\n",
    "    rag_result = rag_qa({\"query\": query})\n",
    "\n",
    "    # contextを取得して、page_contentフィールドをcontext_listに追加に格納\n",
    "    context = rag_result[\"source_documents\"][0]\n",
    "    context_list.append([context.page_content])\n",
    "\n",
    "    # resultを取得して、result_listに格納\n",
    "    result_list.append(rag_result[\"result\"])\n",
    "\n",
    "print(\"チャンクを表示\")\n",
    "print(*context_list, sep='\\n++++++++++++\\n')\n",
    "print(\"*************\")\n",
    "print(\"回答を表示\")\n",
    "print(*result_list, sep='\\n++++++++++++\\n')"
   ]
  },
  {
   "cell_type": "markdown",
   "metadata": {},
   "source": [
    "#### ragasをAzure OpenAIで使用する"
   ]
  },
  {
   "cell_type": "code",
   "execution_count": null,
   "metadata": {},
   "outputs": [],
   "source": [
    "from ragas.metrics import (\n",
    "    context_precision,\n",
    "    answer_relevancy,\n",
    "    faithfulness,\n",
    "    context_recall,\n",
    ")\n",
    "from ragas.metrics.critique import harmfulness\n",
    "\n",
    "metrics = [\n",
    "    faithfulness,\n",
    "    answer_relevancy,\n",
    "    context_recall,\n",
    "    context_precision,\n",
    "    harmfulness,\n",
    "]"
   ]
  },
  {
   "cell_type": "code",
   "execution_count": null,
   "metadata": {},
   "outputs": [],
   "source": [
    "import os\n",
    "from dotenv import load_dotenv\n",
    "\n",
    "from langchain.chat_models import AzureChatOpenAI\n",
    "from langchain.embeddings import OpenAIEmbeddings\n",
    "from ragas.llms import LangchainLLM\n",
    "\n",
    "load_dotenv()\n",
    "\n",
    "# Azure OpenAI Chatモデルの組み立て\n",
    "azure_model = AzureChatOpenAI(\n",
    "    deployment_name=os.environ['DEPLOYMENT_NAME'],\n",
    "    model=os.environ['MODEL_NAME'],\n",
    "    openai_api_base=os.environ['OPENAI_API_BASE'],\n",
    "    openai_api_type=os.environ['OPENAI_API_TYPE'],  # 'azure'\n",
    ")\n",
    "\n",
    "# azure_modelのインスタンスをラップする\n",
    "ragas_azure_model = LangchainLLM(azure_model)\n",
    "\n",
    "answer_relevancy.llm = ragas_azure_model\n",
    "\n",
    "# Embeddingモデルの組み立て\n",
    "azure_embeddings = OpenAIEmbeddings(\n",
    "    deployment=os.environ['DEPLOYMENT_NAME_EMBEDDINGS'],\n",
    "    model=os.environ['MODEL_NAME_EMBEDDINGS'],\n",
    "    openai_api_base=os.environ['OPENAI_API_BASE'],\n",
    "    openai_api_type=os.environ['OPENAI_API_TYPE'], \n",
    ")\n",
    "\n",
    "answer_relevancy.embeddings = azure_embeddings"
   ]
  },
  {
   "cell_type": "code",
   "execution_count": null,
   "metadata": {},
   "outputs": [],
   "source": [
    "for m in metrics:\n",
    "    m.__setattr__('llm', ragas_azure_model)\n",
    "    m.__setattr__('embeddings', azure_embeddings)"
   ]
  },
  {
   "cell_type": "code",
   "execution_count": null,
   "metadata": {},
   "outputs": [],
   "source": [
    "# 真の回答をリストに格納\n",
    "truth_list = [['アルバスの落胤'],\n",
    "              ['攻撃力は1800？'],\n",
    "              ['エクストラデッキメタ'],\n",
    "              ['このカード名のカードは１ターンに１枚しか発動できず、このカードを発動するターン、自分は融合モンスターしかＥＸデッキから特殊召喚できない。(1)：自分の手札・デッキ・フィールドから、融合モンスターカードによって決められた融合素材モンスター２体を墓地へ送り、「アルバスの落胤」を融合素材とするその融合モンスター１体をＥＸデッキから融合召喚する。'],\n",
    "              ['ドラグマ軸、トライブリゲード軸、スプリガンズ軸'],\n",
    "              ['ストライカー・ドラゴン、天球の聖刻印、クロシープ'],\n",
    "              ['特にありません'],\n",
    "              ['アルバスの落胤や超融合で相手モンスターを除去してボードアドバンテージを稼ぐ'],\n",
    "              ['デスピアの導化アルベルの召喚・特殊召喚成功時効果でサーチする'],\n",
    "              ['アルバスの落胤'],\n",
    "              ['元の記事には記載がないので不明'],\n",
    "]"
   ]
  },
  {
   "cell_type": "code",
   "execution_count": null,
   "metadata": {},
   "outputs": [],
   "source": [
    "from datasets import Dataset\n",
    "\n",
    "# データセットの組み立て\n",
    "ds = Dataset.from_dict(\n",
    "    {\n",
    "        'question': query_list,\n",
    "        'answer': result_list,\n",
    "        'contexts': context_list,\n",
    "        'ground_truths': truth_list,\n",
    "    }\n",
    ")"
   ]
  },
  {
   "cell_type": "code",
   "execution_count": null,
   "metadata": {},
   "outputs": [],
   "source": [
    "from ragas import evaluate\n",
    "\n",
    "result = evaluate(\n",
    "    ds,\n",
    "    metrics=metrics,\n",
    ")\n",
    "\n",
    "result"
   ]
  },
  {
   "cell_type": "code",
   "execution_count": null,
   "metadata": {},
   "outputs": [],
   "source": [
    "df = result.to_pandas()\n",
    "df.head()"
   ]
  }
 ],
 "metadata": {
  "kernelspec": {
   "display_name": "Python 3",
   "language": "python",
   "name": "python3"
  },
  "language_info": {
   "codemirror_mode": {
    "name": "ipython",
    "version": 3
   },
   "file_extension": ".py",
   "mimetype": "text/x-python",
   "name": "python",
   "nbconvert_exporter": "python",
   "pygments_lexer": "ipython3",
   "version": "3.11.6"
  }
 },
 "nbformat": 4,
 "nbformat_minor": 2
}
